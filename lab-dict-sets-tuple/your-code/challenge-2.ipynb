{
 "cells": [
  {
   "cell_type": "markdown",
   "metadata": {},
   "source": [
    "## Challenge 2: Sets\n",
    "\n",
    "There are a lot to learn about Python Sets and the information presented in the lesson is limited due to its length. To learn Python Sets in depth you are strongly encouraged to review the W3Schools tutorial on [Python Sets Examples and Methods](https://www.w3schools.com/python/python_sets.asp) before you work on this lab. Some difficult questions in this lab have their solutions in the W3Schools tutorial.\n",
    "\n",
    "#### First, import the Python `random` library."
   ]
  },
  {
   "cell_type": "code",
   "execution_count": 1,
   "metadata": {},
   "outputs": [],
   "source": [
    "import random"
   ]
  },
  {
   "cell_type": "markdown",
   "metadata": {},
   "source": [
    "#### In the cell below, create a list named `sample_list_1` with 80 random values. \n",
    "\n",
    "Requirements:\n",
    "\n",
    "* Each value is an integer falling between 0 and 100.\n",
    "* Each value in the list is unique.\n",
    "\n",
    "Print `sample_list_1` to review its values\n",
    "\n",
    "*Hint: use `random.sample` ([reference](https://docs.python.org/3/library/random.html#random.sample)).*"
   ]
  },
  {
   "cell_type": "code",
   "execution_count": 9,
   "metadata": {
    "scrolled": false
   },
   "outputs": [
    {
     "name": "stdout",
     "output_type": "stream",
     "text": [
      "[90, 57, 18, 5, 12, 93, 78, 48, 67, 16, 21, 72, 60, 86, 82, 92, 23, 69, 47, 49, 97, 43, 13, 85, 28, 44, 87, 99, 88, 84, 62, 3, 53, 51, 59, 89, 98, 6, 64, 63, 71, 20, 10, 95, 81, 66, 33, 61, 38, 80, 75, 9, 1, 32, 42, 35, 46, 34, 30, 14, 50, 45, 37, 58, 76, 54, 29, 91, 7, 2, 15, 4, 41, 70, 79, 94, 19, 77, 40, 8]\n",
      "80\n"
     ]
    }
   ],
   "source": [
    "import random\n",
    "sample_list_1 = random.sample(range(100), k=80)\n",
    "# Your code here\n",
    "print(sample_list_1)\n",
    "print(len(sample_list_1))"
   ]
  },
  {
   "cell_type": "markdown",
   "metadata": {},
   "source": [
    "#### Convert `sample_list_1` to a set called `set1`. Print the length of the set. Is its length still 80?"
   ]
  },
  {
   "cell_type": "code",
   "execution_count": 8,
   "metadata": {},
   "outputs": [
    {
     "name": "stdout",
     "output_type": "stream",
     "text": [
      "80\n"
     ]
    }
   ],
   "source": [
    "# Gets the count of the unique values \n",
    "\n",
    "import random\n",
    "sample_list_1 = random.sample(range(100), k=80)\n",
    "# Your code here\n",
    "set1 = set(sample_list_1)\n",
    "print (len(set1))\n"
   ]
  },
  {
   "cell_type": "markdown",
   "metadata": {},
   "source": [
    "#### Create another list named `sample_list_2` with 80 random values.\n",
    "\n",
    "Requirements:\n",
    "\n",
    "* Each value is an integer falling between 0 and 100.\n",
    "* The values in the list don't have to be unique.\n",
    "\n",
    "*Hint: Use a FOR loop.*"
   ]
  },
  {
   "cell_type": "code",
   "execution_count": 17,
   "metadata": {},
   "outputs": [
    {
     "name": "stdout",
     "output_type": "stream",
     "text": [
      "[95, 79, 12, 55, 65, 8, 25, 54, 89, 33, 77, 94, 43, 24, 47, 40, 80, 53, 84, 71, 64, 76, 50, 98, 40, 21, 14, 58, 29, 19, 71, 43, 8, 90, 60, 42, 48, 40, 80, 36, 60, 69, 62, 4, 30, 53, 50, 95, 19, 64, 44, 51, 41, 36, 73, 95, 76, 36, 47, 0, 70, 47, 74, 11, 76, 96, 76, 17, 2, 54, 85, 14, 0, 29, 0, 59, 21, 86, 85, 57]\n",
      "80\n"
     ]
    }
   ],
   "source": [
    "# your code\n",
    "import random\n",
    "sample_list_2 = [random.randint(0, 100) for i in range(80)]\n",
    "print(sample_list_2)\n",
    "print(len(sample_list_2))"
   ]
  },
  {
   "cell_type": "markdown",
   "metadata": {},
   "source": [
    "#### Convert `sample_list_2` to a set called `set2`. Print the length of the set. Is its length still 80?"
   ]
  },
  {
   "cell_type": "code",
   "execution_count": 50,
   "metadata": {},
   "outputs": [
    {
     "name": "stdout",
     "output_type": "stream",
     "text": [
      "There are only 59 elements now\n"
     ]
    }
   ],
   "source": [
    "# Your code here\n",
    "import random\n",
    "sample_list_2 = [random.randint(0, 100) for i in range(80)]\n",
    "\n",
    "set2 = set(sample_list_2)\n",
    "print(\"There are only\",len(set2), \"elements now\")"
   ]
  },
  {
   "cell_type": "markdown",
   "metadata": {},
   "source": [
    "#### Identify the elements present in `set1` but not in `set2`. Assign the elements to a new set named `set3`."
   ]
  },
  {
   "cell_type": "code",
   "execution_count": 53,
   "metadata": {},
   "outputs": [
    {
     "name": "stdout",
     "output_type": "stream",
     "text": [
      "{2, 4, 6, 11, 17, 21, 23, 24, 27, 29, 31, 32, 33, 36, 37, 38, 45, 47, 49, 50, 52, 61, 63, 65, 70, 71, 73, 81, 82, 88, 92, 99}\n"
     ]
    }
   ],
   "source": [
    "# Your code here\n",
    "import random\n",
    "sample_list_1 = random.sample(range(100), k=80)\n",
    "set1 = set(sample_list_1)\n",
    "sample_list_2 = [random.randint(0, 100) for i in range(80)]\n",
    "set2 = set(sample_list_2)\n",
    "set3 = set1 - set2\n",
    "print(set3)"
   ]
  },
  {
   "cell_type": "markdown",
   "metadata": {},
   "source": [
    "#### Identify the elements present in `set2` but not in `set1`. Assign the elements to a new set named `set4`."
   ]
  },
  {
   "cell_type": "code",
   "execution_count": 64,
   "metadata": {},
   "outputs": [
    {
     "name": "stdout",
     "output_type": "stream",
     "text": [
      "{97, 3, 100, 8, 72, 42, 74, 78, 82, 86, 87, 26, 91, 92, 31}\n"
     ]
    }
   ],
   "source": [
    "# Your code here\n",
    "import random\n",
    "sample_list_1 = random.sample(range(100), k=80)\n",
    "set1 = set(sample_list_1)\n",
    "sample_list_2 = [random.randint(0, 100) for i in range(80)]\n",
    "set2 = set(sample_list_2)\n",
    "set4 = set2 - set1\n",
    "print(set4)"
   ]
  },
  {
   "cell_type": "markdown",
   "metadata": {},
   "source": [
    "#### Now Identify the elements shared between `set1` and `set2`. Assign the elements to a new set named `set5`."
   ]
  },
  {
   "cell_type": "code",
   "execution_count": 67,
   "metadata": {},
   "outputs": [
    {
     "name": "stdout",
     "output_type": "stream",
     "text": [
      "{1, 2, 7, 9, 10, 11, 13, 15, 17, 18, 19, 20, 27, 28, 30, 33, 38, 40, 43, 44, 51, 53, 54, 55, 59, 63, 68, 69, 71, 74, 76, 77, 79, 81, 84, 87, 89, 90, 92, 94, 95, 96, 97, 99}\n"
     ]
    }
   ],
   "source": [
    "# Your code here\n",
    "import random\n",
    "sample_list_1 = random.sample(range(100), k=80)\n",
    "set1 = set(sample_list_1)\n",
    "sample_list_2 = [random.randint(0, 100) for i in range(80)]\n",
    "set2 = set(sample_list_2)\n",
    "set5 = set1.intersection(set2)\n",
    "print(set5)"
   ]
  },
  {
   "cell_type": "markdown",
   "metadata": {},
   "source": [
    "#### What is the relationship among the following values:\n",
    "\n",
    "* len(set1)\n",
    "* len(set2)\n",
    "* len(set3)\n",
    "* len(set4)\n",
    "* len(set5)\n",
    "\n",
    "Use a math formular to represent that relationship. Test your formular with Python code."
   ]
  },
  {
   "cell_type": "code",
   "execution_count": 74,
   "metadata": {},
   "outputs": [
    {
     "name": "stdout",
     "output_type": "stream",
     "text": [
      "n1 = 80, n2 = 50, n3 = 42, n4 = 12, n5 = 38\n"
     ]
    }
   ],
   "source": [
    "# Your code here\n",
    "import random\n",
    "sample_list_1 = random.sample(range(100), k=80)\n",
    "set1 = set(sample_list_1)\n",
    "sample_list_2 = [random.randint(0, 100) for i in range(80)]\n",
    "set2 = set(sample_list_2)\n",
    "set3 = set1 - set2\n",
    "set4 = set2 - set1\n",
    "set5 = set1.intersection(set2)\n",
    "\n",
    "#defining n in order to formular a relationship\n",
    "n1 = len(set1)\n",
    "n2 = len(set2)\n",
    "n3 = len(set3)\n",
    "n4 = len(set4)\n",
    "n5 = len(set5)\n",
    "\n",
    "# the relationship among the sets:\n",
    "assert n1 == n3 + n5\n",
    "assert n2 == n4 + n5\n",
    "\n",
    "print(f\"n1 = {n1}, n2 = {n2}, n3 = {n3}, n4 = {n4}, n5 = {n5}\")"
   ]
  },
  {
   "cell_type": "markdown",
   "metadata": {},
   "source": [
    "#### Create an empty set called `set6`."
   ]
  },
  {
   "cell_type": "code",
   "execution_count": 75,
   "metadata": {},
   "outputs": [
    {
     "name": "stdout",
     "output_type": "stream",
     "text": [
      "{}\n"
     ]
    }
   ],
   "source": [
    "# Your code here\n",
    "set6 = {}\n",
    "print(set6)"
   ]
  },
  {
   "cell_type": "markdown",
   "metadata": {},
   "source": [
    "#### Add `set3` and `set5` to `set6` using the Python Set `update` method."
   ]
  },
  {
   "cell_type": "code",
   "execution_count": 80,
   "metadata": {},
   "outputs": [
    {
     "name": "stdout",
     "output_type": "stream",
     "text": [
      "{0, 1, 2, 4, 5, 6, 7, 8, 10, 11, 12, 13, 14, 16, 17, 18, 21, 22, 23, 25, 26, 27, 28, 29, 32, 33, 34, 35, 38, 39, 41, 42, 45, 46, 47, 49, 50, 52, 53, 54, 55, 56, 57, 58, 59, 61, 62, 63, 64, 65, 67, 68, 69, 70, 71, 72, 74, 75, 77, 79, 80, 81, 82, 83, 84, 85, 86, 87, 88, 89, 90, 91, 92, 93, 94, 95, 96, 97, 98, 99}\n"
     ]
    }
   ],
   "source": [
    "# Your code here\n",
    "import random\n",
    "sample_list_1 = random.sample(range(100), k=80)\n",
    "set1 = set(sample_list_1)\n",
    "sample_list_2 = [random.randint(0, 100) for i in range(80)]\n",
    "set2 = set(sample_list_2)\n",
    "set3 = set1 - set2\n",
    "set4 = set2 - set1\n",
    "set5 = set1.intersection(set2)\n",
    "\n",
    "set6 = set()\n",
    "set6.update(set5)\n",
    "set6.update(set3)\n",
    "print(set6)"
   ]
  },
  {
   "cell_type": "markdown",
   "metadata": {},
   "source": [
    "#### Check if `set1` and `set6` are equal."
   ]
  },
  {
   "cell_type": "code",
   "execution_count": 82,
   "metadata": {},
   "outputs": [
    {
     "name": "stdout",
     "output_type": "stream",
     "text": [
      "The sets are equal\n"
     ]
    }
   ],
   "source": [
    "# Your code here\n",
    "\n",
    "import random\n",
    "sample_list_1 = random.sample(range(100), k=80)\n",
    "set1 = set(sample_list_1)\n",
    "sample_list_2 = [random.randint(0, 100) for i in range(80)]\n",
    "set2 = set(sample_list_2)\n",
    "set3 = set1 - set2\n",
    "set4 = set2 - set1\n",
    "set5 = set1.intersection(set2)\n",
    "\n",
    "set6 = set()\n",
    "set6.update(set5)\n",
    "set6.update(set3)\n",
    "if set1 == set6:\n",
    "    print(\"The sets are equal\")\n",
    "else:\n",
    "    print(\"The sets are not equal\")"
   ]
  },
  {
   "cell_type": "markdown",
   "metadata": {},
   "source": [
    "#### Check if `set1` contains `set2` using the Python Set `issubset` method. Then check if `set1` contains `set3`.*"
   ]
  },
  {
   "cell_type": "code",
   "execution_count": 87,
   "metadata": {},
   "outputs": [
    {
     "name": "stdout",
     "output_type": "stream",
     "text": [
      "set1 contains set2? False\n",
      "set1 contains set3? False\n"
     ]
    }
   ],
   "source": [
    "# Your code here\n",
    "import random\n",
    "sample_list_1 = random.sample(range(100), k=80)\n",
    "set1 = set(sample_list_1)\n",
    "sample_list_2 = [random.randint(0, 100) for i in range(80)]\n",
    "set2 = set(sample_list_2)\n",
    "set3 = set1 - set2\n",
    "set4 = set2 - set1\n",
    "set5 = set1.intersection(set2)\n",
    "\n",
    "set6 = set()\n",
    "set6.update(set5)\n",
    "set6.update(set3)\n",
    "\n",
    "contains = set1.issubset(set2)\n",
    "contains2 = set1.issubset(set3)\n",
    "\n",
    "print(\"set1 contains set2?\", contains)\n",
    "print(\"set1 contains set3?\", contains2)"
   ]
  },
  {
   "cell_type": "markdown",
   "metadata": {},
   "source": [
    "#### Using the Python Set `union` method, aggregate `set3`, `set4`, and `set5`. Then aggregate `set1` and `set2`. \n",
    "\n",
    "#### Check if the aggregated values are equal."
   ]
  },
  {
   "cell_type": "code",
   "execution_count": 90,
   "metadata": {},
   "outputs": [
    {
     "name": "stdout",
     "output_type": "stream",
     "text": [
      "{0, 1, 2, 3, 4, 5, 6, 7, 8, 9, 10, 12, 13, 14, 15, 16, 17, 18, 20, 21, 22, 23, 24, 25, 26, 27, 28, 29, 30, 31, 32, 33, 34, 35, 36, 37, 38, 39, 40, 41, 42, 43, 44, 45, 46, 47, 48, 49, 50, 51, 52, 53, 54, 55, 56, 57, 58, 59, 60, 61, 62, 63, 64, 65, 66, 67, 68, 69, 71, 72, 74, 75, 76, 77, 78, 79, 80, 82, 83, 84, 85, 86, 87, 88, 89, 90, 91, 92, 93, 94, 95, 96, 97, 98, 100}\n"
     ]
    }
   ],
   "source": [
    "# Your code here\n",
    "\n",
    "import random\n",
    "sample_list_1 = random.sample(range(100), k=80)\n",
    "set1 = set(sample_list_1)\n",
    "sample_list_2 = [random.randint(0, 100) for i in range(80)]\n",
    "set2 = set(sample_list_2)\n",
    "set3 = set1 - set2\n",
    "set4 = set2 - set1\n",
    "set5 = set1.intersection(set2)\n",
    "set6 = set3.union(set4, set5)\n",
    "set6 = set6.union(set1, set2)\n",
    "print (set6)\n"
   ]
  },
  {
   "cell_type": "markdown",
   "metadata": {},
   "source": [
    "#### Using the `pop` method, remove the first element from `set1`."
   ]
  },
  {
   "cell_type": "code",
   "execution_count": null,
   "metadata": {},
   "outputs": [],
   "source": [
    "# Is not possible to remove specific elements from sets using pop method since it removes a random element."
   ]
  },
  {
   "cell_type": "markdown",
   "metadata": {},
   "source": [
    "#### Remove every element in the following list from `set1` if they are present in the set. Print the remaining elements.\n",
    "\n",
    "```\n",
    "list_to_remove = [1, 9, 11, 19, 21, 29, 31, 39, 41, 49, 51, 59, 61, 69, 71, 79, 81, 89, 91, 99]\n",
    "```"
   ]
  },
  {
   "cell_type": "code",
   "execution_count": 92,
   "metadata": {},
   "outputs": [
    {
     "name": "stdout",
     "output_type": "stream",
     "text": [
      "Updated set1: {0, 3, 4, 5, 7, 10, 12, 13, 14, 16, 17, 18, 20, 22, 23, 24, 25, 26, 27, 28, 30, 32, 34, 35, 36, 37, 38, 40, 43, 45, 46, 47, 48, 52, 54, 55, 56, 58, 60, 62, 63, 64, 65, 67, 68, 70, 73, 74, 75, 76, 77, 80, 82, 84, 85, 87, 88, 90, 92, 93, 95, 97, 98}\n"
     ]
    }
   ],
   "source": [
    "# Your code here\n",
    "\n",
    "import random\n",
    "sample_list_1 = random.sample(range(100), k=80)\n",
    "set1 = set(sample_list_1)\n",
    "sample_list_2 = [random.randint(0, 100) for i in range(80)]\n",
    "set2 = set(sample_list_2)\n",
    "set3 = set1 - set2\n",
    "set4 = set2 - set1\n",
    "set5 = set1.intersection(set2)\n",
    "set6 = set3.union(set4, set5)\n",
    "set6 = set6.union(set1, set2)\n",
    "list_to_remove = [1, 9, 11, 19, 21, 29, 31, 39, 41, 49, 51, 59, 61, 69, 71, 79, 81, 89, 91, 99]\n",
    "\n",
    "for i in list_to_remove:\n",
    "    set1.discard(i) #using discard instead remove, since KeyError appears if the element from the list is not on the set\n",
    "\n",
    "print(\"set1:\", set1)"
   ]
  }
 ],
 "metadata": {
  "kernelspec": {
   "display_name": "Python 3 (ipykernel)",
   "language": "python",
   "name": "python3"
  },
  "language_info": {
   "codemirror_mode": {
    "name": "ipython",
    "version": 3
   },
   "file_extension": ".py",
   "mimetype": "text/x-python",
   "name": "python",
   "nbconvert_exporter": "python",
   "pygments_lexer": "ipython3",
   "version": "3.10.9"
  },
  "nbTranslate": {
   "displayLangs": [
    "en",
    "es"
   ],
   "hotkey": "alt-a",
   "langInMainMenu": true,
   "sourceLang": "es",
   "targetLang": "en",
   "useGoogleTranslate": true
  },
  "toc": {
   "base_numbering": 1,
   "nav_menu": {},
   "number_sections": true,
   "sideBar": true,
   "skip_h1_title": false,
   "title_cell": "Table of Contents",
   "title_sidebar": "Contents",
   "toc_cell": false,
   "toc_position": {},
   "toc_section_display": true,
   "toc_window_display": false
  },
  "vscode": {
   "interpreter": {
    "hash": "aee8b7b246df8f9039afb4144a1f6fd8d2ca17a180786b69acc140d282b71a49"
   }
  }
 },
 "nbformat": 4,
 "nbformat_minor": 2
}
